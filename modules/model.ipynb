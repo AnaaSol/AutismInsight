{
 "cells": [
  {
   "cell_type": "code",
   "execution_count": 1,
   "metadata": {},
   "outputs": [],
   "source": [
    "import pandas as pd\n",
    "from sklearn.model_selection import train_test_split\n",
    "from sklearn.preprocessing import LabelEncoder, StandardScaler\n",
    "import matplotlib.pyplot as plt\n",
    "import numpy as np"
   ]
  },
  {
   "cell_type": "code",
   "execution_count": 2,
   "metadata": {},
   "outputs": [
    {
     "data": {
      "text/plain": [
       "<bound method NDFrame.head of       Case_No  A1  A2  A3  A4  A5  A6  A7  A8  A9  A10  Age_Mons  \\\n",
       "0           1   0   0   0   0   0   0   1   1   0    1        28   \n",
       "1           2   1   1   0   0   0   1   1   0   0    0        36   \n",
       "2           3   1   0   0   0   0   0   1   1   0    1        36   \n",
       "3           4   1   1   1   1   1   1   1   1   1    1        24   \n",
       "4           5   1   1   0   1   1   1   1   1   1    1        20   \n",
       "...       ...  ..  ..  ..  ..  ..  ..  ..  ..  ..  ...       ...   \n",
       "1049     1050   0   0   0   0   0   0   0   0   0    1        24   \n",
       "1050     1051   0   0   1   1   1   0   1   0   1    0        12   \n",
       "1051     1052   1   0   1   1   1   1   1   1   1    1        18   \n",
       "1052     1053   1   0   0   0   0   0   0   1   0    1        19   \n",
       "1053     1054   1   1   0   0   1   1   0   1   1    0        24   \n",
       "\n",
       "      Qchat-10-Score Sex       Ethnicity Jaundice Family_mem_with_ASD  \\\n",
       "0                  3   f  middle eastern      yes                  no   \n",
       "1                  4   m  White European      yes                  no   \n",
       "2                  4   m  middle eastern      yes                  no   \n",
       "3                 10   m        Hispanic       no                  no   \n",
       "4                  9   f  White European       no                 yes   \n",
       "...              ...  ..             ...      ...                 ...   \n",
       "1049               1   f  White European       no                 yes   \n",
       "1050               5   m           black      yes                  no   \n",
       "1051               9   m  middle eastern      yes                  no   \n",
       "1052               3   m  White European       no                 yes   \n",
       "1053               6   m           asian      yes                 yes   \n",
       "\n",
       "     Who completed the test Class/ASD Traits  \n",
       "0             family member               No  \n",
       "1             family member              Yes  \n",
       "2             family member              Yes  \n",
       "3             family member              Yes  \n",
       "4             family member              Yes  \n",
       "...                     ...              ...  \n",
       "1049          family member               No  \n",
       "1050          family member              Yes  \n",
       "1051          family member              Yes  \n",
       "1052          family member               No  \n",
       "1053          family member              Yes  \n",
       "\n",
       "[1054 rows x 19 columns]>"
      ]
     },
     "execution_count": 2,
     "metadata": {},
     "output_type": "execute_result"
    }
   ],
   "source": [
    "df = pd.read_csv(\"./data/ToddlerAutismDataset.csv\")\n",
    "df.head"
   ]
  },
  {
   "cell_type": "code",
   "execution_count": 3,
   "metadata": {},
   "outputs": [
    {
     "name": "stdout",
     "output_type": "stream",
     "text": [
      "<class 'pandas.core.frame.DataFrame'>\n",
      "RangeIndex: 1054 entries, 0 to 1053\n",
      "Data columns (total 19 columns):\n",
      " #   Column                  Non-Null Count  Dtype \n",
      "---  ------                  --------------  ----- \n",
      " 0   Case_No                 1054 non-null   int64 \n",
      " 1   A1                      1054 non-null   int64 \n",
      " 2   A2                      1054 non-null   int64 \n",
      " 3   A3                      1054 non-null   int64 \n",
      " 4   A4                      1054 non-null   int64 \n",
      " 5   A5                      1054 non-null   int64 \n",
      " 6   A6                      1054 non-null   int64 \n",
      " 7   A7                      1054 non-null   int64 \n",
      " 8   A8                      1054 non-null   int64 \n",
      " 9   A9                      1054 non-null   int64 \n",
      " 10  A10                     1054 non-null   int64 \n",
      " 11  Age_Mons                1054 non-null   int64 \n",
      " 12  Qchat-10-Score          1054 non-null   int64 \n",
      " 13  Sex                     1054 non-null   object\n",
      " 14  Ethnicity               1054 non-null   object\n",
      " 15  Jaundice                1054 non-null   object\n",
      " 16  Family_mem_with_ASD     1054 non-null   object\n",
      " 17  Who completed the test  1054 non-null   object\n",
      " 18  Class/ASD Traits        1054 non-null   object\n",
      "dtypes: int64(13), object(6)\n",
      "memory usage: 156.6+ KB\n"
     ]
    }
   ],
   "source": [
    "df.info()"
   ]
  },
  {
   "cell_type": "code",
   "execution_count": 4,
   "metadata": {},
   "outputs": [],
   "source": [
    "df = df.drop(\"Qchat-10-Score\", axis=1)\n",
    "\n",
    "y = df['Class/ASD Traits']\n",
    "X = df.drop(\"Class/ASD Traits\", axis=1)\n",
    "\n",
    "label_encoder = LabelEncoder()\n",
    "y = label_encoder.fit_transform(y)\n",
    "\n",
    "# Convert the last 5 columns of X to numeric data types\n",
    "categorical_columns = ['Sex', 'Ethnicity', 'Jaundice', 'Family_mem_with_ASD', 'Who completed the test']\n",
    "for i in categorical_columns:\n",
    "    X[i] = label_encoder.fit_transform(X[i])\n",
    "\n",
    "X_train, X_test, y_train, y_test = train_test_split(X, y, test_size=0.3, shuffle=True, random_state=1,  stratify = y)"
   ]
  },
  {
   "cell_type": "code",
   "execution_count": 5,
   "metadata": {},
   "outputs": [
    {
     "name": "stdout",
     "output_type": "stream",
     "text": [
      "<class 'pandas.core.frame.DataFrame'>\n",
      "Index: 737 entries, 988 to 1014\n",
      "Data columns (total 17 columns):\n",
      " #   Column                  Non-Null Count  Dtype\n",
      "---  ------                  --------------  -----\n",
      " 0   Case_No                 737 non-null    int64\n",
      " 1   A1                      737 non-null    int64\n",
      " 2   A2                      737 non-null    int64\n",
      " 3   A3                      737 non-null    int64\n",
      " 4   A4                      737 non-null    int64\n",
      " 5   A5                      737 non-null    int64\n",
      " 6   A6                      737 non-null    int64\n",
      " 7   A7                      737 non-null    int64\n",
      " 8   A8                      737 non-null    int64\n",
      " 9   A9                      737 non-null    int64\n",
      " 10  A10                     737 non-null    int64\n",
      " 11  Age_Mons                737 non-null    int64\n",
      " 12  Sex                     737 non-null    int32\n",
      " 13  Ethnicity               737 non-null    int32\n",
      " 14  Jaundice                737 non-null    int32\n",
      " 15  Family_mem_with_ASD     737 non-null    int32\n",
      " 16  Who completed the test  737 non-null    int32\n",
      "dtypes: int32(5), int64(12)\n",
      "memory usage: 89.2 KB\n"
     ]
    }
   ],
   "source": [
    "X_train.info()"
   ]
  },
  {
   "cell_type": "code",
   "execution_count": 6,
   "metadata": {},
   "outputs": [
    {
     "data": {
      "image/png": "[encoded data removed]",
      "text/plain": [
       "<Figure size 1000x1000 with 15 Axes>"
      ]
     },
     "metadata": {},
     "output_type": "display_data"
    }
   ],
   "source": [
    "\n",
    "fig, axs = plt.subplots(5, 3, figsize=(10, 10))\n",
    "\n",
    "for i in range(5):\n",
    "    for j in range(3):\n",
    "        col_index = i * 3 + j\n",
    "        axs[i, j].scatter(X.iloc[:, col_index], y, c=y)\n",
    "        axs[i, j].set_xlabel('Column {}'.format(col_index))\n",
    "        axs[i, j].set_ylabel('y')\n",
    "\n",
    "plt.tight_layout()\n",
    "plt.show()"
   ]
  },
  {
   "cell_type": "code",
   "execution_count": 7,
   "metadata": {},
   "outputs": [
    {
     "name": "stdout",
     "output_type": "stream",
     "text": [
      "Fitting 5 folds for each of 16 candidates, totalling 80 fits\n",
      "[CV] END .....................................C=0.1, gamma=1; total time=   0.0s\n",
      "[CV] END .....................................C=0.1, gamma=1; total time=   0.0s\n",
      "[CV] END .....................................C=0.1, gamma=1; total time=   0.0s\n",
      "[CV] END .....................................C=0.1, gamma=1; total time=   0.0s\n",
      "[CV] END .....................................C=0.1, gamma=1; total time=   0.0s\n",
      "[CV] END ...................................C=0.1, gamma=0.1; total time=   0.0s\n",
      "[CV] END ...................................C=0.1, gamma=0.1; total time=   0.0s\n",
      "[CV] END ...................................C=0.1, gamma=0.1; total time=   0.0s\n",
      "[CV] END ...................................C=0.1, gamma=0.1; total time=   0.0s\n",
      "[CV] END ...................................C=0.1, gamma=0.1; total time=   0.0s\n",
      "[CV] END ..................................C=0.1, gamma=0.01; total time=   0.0s\n",
      "[CV] END ..................................C=0.1, gamma=0.01; total time=   0.0s\n",
      "[CV] END ..................................C=0.1, gamma=0.01; total time=   0.0s\n",
      "[CV] END ..................................C=0.1, gamma=0.01; total time=   0.0s\n",
      "[CV] END ..................................C=0.1, gamma=0.01; total time=   0.0s\n",
      "[CV] END .................................C=0.1, gamma=0.001; total time=   0.0s\n",
      "[CV] END .................................C=0.1, gamma=0.001; total time=   0.0s\n",
      "[CV] END .................................C=0.1, gamma=0.001; total time=   0.0s\n",
      "[CV] END .................................C=0.1, gamma=0.001; total time=   0.0s\n",
      "[CV] END .................................C=0.1, gamma=0.001; total time=   0.0s\n",
      "[CV] END .......................................C=1, gamma=1; total time=   0.0s\n",
      "[CV] END .......................................C=1, gamma=1; total time=   0.0s\n",
      "[CV] END .......................................C=1, gamma=1; total time=   0.0s\n",
      "[CV] END .......................................C=1, gamma=1; total time=   0.0s\n",
      "[CV] END .......................................C=1, gamma=1; total time=   0.0s\n",
      "[CV] END .....................................C=1, gamma=0.1; total time=   0.0s\n",
      "[CV] END .....................................C=1, gamma=0.1; total time=   0.0s\n",
      "[CV] END .....................................C=1, gamma=0.1; total time=   0.0s\n",
      "[CV] END .....................................C=1, gamma=0.1; total time=   0.0s\n",
      "[CV] END .....................................C=1, gamma=0.1; total time=   0.0s\n",
      "[CV] END ....................................C=1, gamma=0.01; total time=   0.0s\n",
      "[CV] END ....................................C=1, gamma=0.01; total time=   0.0s\n",
      "[CV] END ....................................C=1, gamma=0.01; total time=   0.0s\n",
      "[CV] END ....................................C=1, gamma=0.01; total time=   0.0s\n",
      "[CV] END ....................................C=1, gamma=0.01; total time=   0.0s\n",
      "[CV] END ...................................C=1, gamma=0.001; total time=   0.0s\n",
      "[CV] END ...................................C=1, gamma=0.001; total time=   0.0s\n",
      "[CV] END ...................................C=1, gamma=0.001; total time=   0.0s\n",
      "[CV] END ...................................C=1, gamma=0.001; total time=   0.0s\n",
      "[CV] END ...................................C=1, gamma=0.001; total time=   0.0s\n",
      "[CV] END ......................................C=10, gamma=1; total time=   0.0s\n",
      "[CV] END ......................................C=10, gamma=1; total time=   0.0s\n",
      "[CV] END ......................................C=10, gamma=1; total time=   0.0s\n",
      "[CV] END ......................................C=10, gamma=1; total time=   0.0s\n",
      "[CV] END ......................................C=10, gamma=1; total time=   0.0s\n",
      "[CV] END ....................................C=10, gamma=0.1; total time=   0.0s\n",
      "[CV] END ....................................C=10, gamma=0.1; total time=   0.0s\n",
      "[CV] END ....................................C=10, gamma=0.1; total time=   0.0s\n",
      "[CV] END ....................................C=10, gamma=0.1; total time=   0.0s\n",
      "[CV] END ....................................C=10, gamma=0.1; total time=   0.0s\n",
      "[CV] END ...................................C=10, gamma=0.01; total time=   0.0s\n",
      "[CV] END ...................................C=10, gamma=0.01; total time=   0.0s\n",
      "[CV] END ...................................C=10, gamma=0.01; total time=   0.0s\n",
      "[CV] END ...................................C=10, gamma=0.01; total time=   0.0s\n",
      "[CV] END ...................................C=10, gamma=0.01; total time=   0.0s\n",
      "[CV] END ..................................C=10, gamma=0.001; total time=   0.0s\n",
      "[CV] END ..................................C=10, gamma=0.001; total time=   0.0s\n",
      "[CV] END ..................................C=10, gamma=0.001; total time=   0.0s\n",
      "[CV] END ..................................C=10, gamma=0.001; total time=   0.0s\n",
      "[CV] END ..................................C=10, gamma=0.001; total time=   0.0s\n",
      "[CV] END .....................................C=100, gamma=1; total time=   0.0s\n",
      "[CV] END .....................................C=100, gamma=1; total time=   0.0s\n",
      "[CV] END .....................................C=100, gamma=1; total time=   0.0s\n",
      "[CV] END .....................................C=100, gamma=1; total time=   0.0s\n",
      "[CV] END .....................................C=100, gamma=1; total time=   0.0s\n",
      "[CV] END ...................................C=100, gamma=0.1; total time=   0.0s\n",
      "[CV] END ...................................C=100, gamma=0.1; total time=   0.0s\n",
      "[CV] END ...................................C=100, gamma=0.1; total time=   0.0s\n",
      "[CV] END ...................................C=100, gamma=0.1; total time=   0.0s\n",
      "[CV] END ...................................C=100, gamma=0.1; total time=   0.0s\n",
      "[CV] END ..................................C=100, gamma=0.01; total time=   0.0s\n",
      "[CV] END ..................................C=100, gamma=0.01; total time=   0.0s\n",
      "[CV] END ..................................C=100, gamma=0.01; total time=   0.0s\n",
      "[CV] END ..................................C=100, gamma=0.01; total time=   0.0s\n",
      "[CV] END ..................................C=100, gamma=0.01; total time=   0.0s\n",
      "[CV] END .................................C=100, gamma=0.001; total time=   0.0s\n",
      "[CV] END .................................C=100, gamma=0.001; total time=   0.0s\n",
      "[CV] END .................................C=100, gamma=0.001; total time=   0.0s\n",
      "[CV] END .................................C=100, gamma=0.001; total time=   0.0s\n",
      "[CV] END .................................C=100, gamma=0.001; total time=   0.0s\n",
      "Best parameters: {'C': 100, 'gamma': 0.001}\n"
     ]
    }
   ],
   "source": [
    "from sklearn.svm import SVC\n",
    "from sklearn.model_selection import GridSearchCV\n",
    "\n",
    "svm_model = SVC(kernel='rbf', random_state=42)\n",
    "param_grid = {'C': [0.1, 1, 10, 100], 'gamma': [1, 0.1, 0.01, 0.001]}\n",
    "grid_search = GridSearchCV(svm_model, param_grid, refit=True, verbose=2, cv=5)\n",
    "grid_search.fit(X_train, y_train)\n",
    "\n",
    "print(\"Best parameters:\", grid_search.best_params_)"
   ]
  },
  {
   "cell_type": "code",
   "execution_count": 8,
   "metadata": {},
   "outputs": [
    {
     "name": "stdout",
     "output_type": "stream",
     "text": [
      "SVC(C=100, gamma=0.001, random_state=42)\n"
     ]
    }
   ],
   "source": [
    "best_svm_model = grid_search.best_estimator_\n",
    "best_svm_model.fit(X_train, y_train)\n",
    "\n",
    "print(best_svm_model)\n",
    "\n",
    "y_pred = best_svm_model.predict(X_test) "
   ]
  },
  {
   "cell_type": "code",
   "execution_count": 9,
   "metadata": {},
   "outputs": [
    {
     "name": "stdout",
     "output_type": "stream",
     "text": [
      "[[ 78  20]\n",
      " [ 16 203]]\n",
      "              precision    recall  f1-score   support\n",
      "\n",
      "           0       0.83      0.80      0.81        98\n",
      "           1       0.91      0.93      0.92       219\n",
      "\n",
      "    accuracy                           0.89       317\n",
      "   macro avg       0.87      0.86      0.87       317\n",
      "weighted avg       0.89      0.89      0.89       317\n",
      "\n"
     ]
    }
   ],
   "source": [
    "from sklearn.metrics import classification_report, confusion_matrix\n",
    "\n",
    "print(confusion_matrix(y_test, y_pred))\n",
    "print(classification_report(y_test, y_pred))"
   ]
  },
  {
   "cell_type": "code",
   "execution_count": 10,
   "metadata": {},
   "outputs": [
    {
     "name": "stderr",
     "output_type": "stream",
     "text": [
      "c:\\Users\\anaso\\AppData\\Local\\Programs\\Python\\Python311\\Lib\\site-packages\\tpot\\builtins\\__init__.py:36: UserWarning: Warning: optional dependency `torch` is not available. - skipping import of NN models.\n",
      "  warnings.warn(\"Warning: optional dependency `torch` is not available. - skipping import of NN models.\")\n"
     ]
    },
    {
     "name": "stdout",
     "output_type": "stream",
     "text": [
      "                                                                            \n",
      "Generation 1 - Current best internal CV score: 0.9843293686746876\n",
      "                                                                            \n",
      "Best pipeline: XGBClassifier(input_matrix, learning_rate=0.1, max_depth=10, min_child_weight=1, n_estimators=100, n_jobs=1, subsample=0.4, verbosity=0)\n",
      "0.9864253393665159\n",
      "Accuracy: 0.9810725552050473\n",
      "[[ 93   5]\n",
      " [  1 218]]\n",
      "              precision    recall  f1-score   support\n",
      "\n",
      "           0       0.99      0.95      0.97        98\n",
      "           1       0.98      1.00      0.99       219\n",
      "\n",
      "    accuracy                           0.98       317\n",
      "   macro avg       0.98      0.97      0.98       317\n",
      "weighted avg       0.98      0.98      0.98       317\n",
      "\n"
     ]
    }
   ],
   "source": [
    "from tpot import TPOTClassifier\n",
    "from sklearn.metrics import accuracy_score\n",
    "from sklearn.metrics import classification_report, confusion_matrix\n",
    "\n",
    "# Initialize TPOT\n",
    "tpot = TPOTClassifier(generations=1, population_size=20, verbosity=2, config_dict='TPOT sparse', cv=10, scoring='f1')\n",
    "\n",
    "# Fit TPOT on the training data\n",
    "tpot.fit(X_train, y_train)\n",
    "\n",
    "# Evaluate the performance on the validation set\n",
    "print(tpot.score(X_test, y_test))\n",
    "\n",
    "# Make predictions on the test set using the best pipeline\n",
    "y_pred = tpot.fitted_pipeline_.predict(X_test)\n",
    "\n",
    "# Evaluate the predictions\n",
    "accuracy = accuracy_score(y_test, y_pred)\n",
    "print(\"Accuracy:\", accuracy)\n",
    "\n",
    "print(confusion_matrix(y_test, y_pred))\n",
    "print(classification_report(y_test, y_pred))"
   ]
  },
  {
   "cell_type": "code",
   "execution_count": 12,
   "metadata": {},
   "outputs": [],
   "source": [
    "def predition(data): # data is a np array with the necesarry features\n",
    "    pred = tpot.fitted_pipeline_.predict(data)\n",
    "    return pred"
   ]
  }
 ],
 "metadata": {
  "kernelspec": {
   "display_name": "Python 3",
   "language": "python",
   "name": "python3"
  },
  "language_info": {
   "codemirror_mode": {
    "name": "ipython",
    "version": 3
   },
   "file_extension": ".py",
   "mimetype": "text/x-python",
   "name": "python",
   "nbconvert_exporter": "python",
   "pygments_lexer": "ipython3",
   "version": "3.11.0"
  }
 },
 "nbformat": 4,
 "nbformat_minor": 2
}
